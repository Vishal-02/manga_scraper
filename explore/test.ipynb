{
 "cells": [
  {
   "cell_type": "code",
   "execution_count": 52,
   "metadata": {},
   "outputs": [],
   "source": [
    "import sqlite3\n",
    "import json\n",
    "from os import getenv\n",
    "from dotenv import load_dotenv\n",
    "from selenium import webdriver\n",
    "from selenium.webdriver.support.ui import WebDriverWait\n",
    "from selenium.webdriver.chrome.options import Options\n",
    "import pytesseract\n",
    "from PIL import Image\n",
    "import cv2\n",
    "import numpy as np\n",
    "from re import split\n",
    "import csv"
   ]
  },
  {
   "cell_type": "code",
   "execution_count": 53,
   "metadata": {},
   "outputs": [],
   "source": [
    "con = sqlite3.connect(\"custom.db\")\n",
    "cur = con.cursor()"
   ]
  },
  {
   "cell_type": "code",
   "execution_count": 54,
   "metadata": {},
   "outputs": [
    {
     "name": "stdout",
     "output_type": "stream",
     "text": [
      "('Vol.4 Chapter 14', 'Chapter 18: Something else is going on')\n"
     ]
    }
   ],
   "source": [
    "def func(line):\n",
    "    line = line.strip('\"')\n",
    "    curr_chap, latest_chap = \"\", \"\"\n",
    "\n",
    "    if line[0] == \"C\": # it starts with \"Chapter\"\n",
    "        line = line.split(\"Chapter\")[1:]\n",
    "        first = line[0].split(\"Vol\")\n",
    "\n",
    "        if len(first) == 1:\n",
    "            curr_chap = \"Chapter\" + line[0][:-1]\n",
    "            latest_chap = \"Chapter \" + line[1].strip()\n",
    "        elif len(first) == 2:\n",
    "            curr_chap = \"Chapter\" + first[0][:-1]\n",
    "            latest_chap = \"Vol\" + first[1] + \"Chapter \" + line[-1].strip()\n",
    "\n",
    "    else: # it starts with \"Vol\"\n",
    "        line = line.split(\"Vol\")[1:]\n",
    "\n",
    "        if len(line) == 1: # the latest chapter starts with \"Chapter\"\n",
    "            line = line[0].rsplit(\",Chapter\", 1)\n",
    "            curr_chap = \"Vol\" + line[0]\n",
    "            latest_chap = \"Chapter \" + line[-1].strip()\n",
    "        elif len(line) == 2: # the latest chapter starts with \"Vol\"\n",
    "            curr_chap = \"Vol\" + line[0][:-1]\n",
    "            latest_chap = \"Vol\" + line[1].strip()\n",
    "\n",
    "        # print(f\"{curr_chap} --- {latest_chap}\")\n",
    "\n",
    "    return curr_chap, latest_chap\n",
    "\n",
    "one = \"Vol.5 Chapter 43: Cheers,Vol.15 Chapter 165: Takehi Gouda's Ability\\n\"\n",
    "two = \"Chapter 3,Chapter 11\\n\"\n",
    "three = \"Chapter 14,Vol.4 Chapter 18\\n\"\n",
    "four = \"Vol.4 Chapter 14,Chapter 18: Something else is going on\\n\"\n",
    "\n",
    "print(func(four))"
   ]
  },
  {
   "cell_type": "code",
   "execution_count": 55,
   "metadata": {},
   "outputs": [],
   "source": [
    "titles = []\n",
    "urls = []\n",
    "current = []\n",
    "latest = []\n",
    "full = []\n",
    "\n",
    "with open(\"tempdb.csv\", \"r\", encoding=\"utf-8\") as file:\n",
    "    csvwriter = csv.reader(file)\n",
    "    for i, lines in enumerate(file):\n",
    "        full.append(lines)\n",
    "        if i == 0:\n",
    "            continue\n",
    "\n",
    "        lines = split(\"https\", lines)\n",
    "        titles.append(lines[0][:-1].strip('\"'))\n",
    "\n",
    "        lines = lines[1].split(\",\", maxsplit=1)\n",
    "        urls.append(f\"https{lines[0]}\")\n",
    "        \n",
    "        curr_chap, latest_chap = func(lines[1])\n",
    "        current.append(curr_chap)\n",
    "        latest.append(latest_chap)"
   ]
  },
  {
   "cell_type": "code",
   "execution_count": 56,
   "metadata": {},
   "outputs": [],
   "source": [
    "driver = webdriver.Chrome(\"..\\..\\web_scraping\\chromedriver-win64\\chromedriver.exe\")\n",
    "driver.get(\"https://asurascans.com\")"
   ]
  },
  {
   "cell_type": "code",
   "execution_count": 57,
   "metadata": {},
   "outputs": [],
   "source": [
    "title = titles[0]\n",
    "search_form = driver.find_element_by_xpath(\"//form[contains(@itemtype, 'http://schema.org/SearchAction')]\")\n",
    "search_bar = search_form.find_element_by_xpath(\".//input\")\n",
    "search_button = search_form.find_element_by_xpath(\".//button\")\n",
    "search_bar.send_keys(title)\n",
    "search_button.click()"
   ]
  },
  {
   "cell_type": "code",
   "execution_count": 71,
   "metadata": {},
   "outputs": [
    {
     "name": "stdout",
     "output_type": "stream",
     "text": [
      "https://img.asuracomics.com/unsafe/fit-in/330x450/filters:format(webp)/https://asuratoon.com/wp-content/uploads/2024/05/MargravesBastardSonwasTheEmperorCover02CUnetauto_scaleLevel3width-2000.jpg\n",
      "https://img.asuracomics.com/unsafe/fit-in/330x450/filters:format(webp)/https://asuratoon.com/wp-content/uploads/2021/07/8thclass.jpg\n",
      "https://img.asuracomics.com/unsafe/fit-in/330x450/filters:format(webp)/https://asuratoon.com/wp-content/uploads/2021/10/cover.png\n"
     ]
    }
   ],
   "source": [
    "results_name = driver.find_elements_by_xpath(\".//div[contains(@class, 'tt')]\")[:5]\n",
    "results_img = driver.find_elements_by_xpath(\".//div[contains(@class, 'limit')]/img\")\n",
    "results_img = [r.get_attribute(\"src\") for r in results_img]"
   ]
  },
  {
   "cell_type": "code",
   "execution_count": 75,
   "metadata": {},
   "outputs": [
    {
     "name": "stdout",
     "output_type": "stream",
     "text": [
      "Magic Emperor: ['Margrave’s Bastard Son was The Emperor', 'Return of the 8th Class Magician', 'Return of The Unrivaled Spear Knight']\n",
      "Helmut: The Forsaken Child: ['Helmut: The Forsaken Child']\n",
      "Doctor’s Rebirth: ['Doctor’s Rebirth']\n",
      "Star-Embracing Swordmaster: ['Star-Embracing Swordmaster']\n",
      "Survival Story of a Sword King in a Fantasy World: ['The Indomitable Martial King']\n",
      "Son's Retribution: ['Son’s Retribution']\n",
      "Return Of The Shattered Constellation: ['Return Of The Shattered Constellation']\n",
      "Insanely Talented Player: ['Insanely-Talented Player']\n",
      "I am the Strongest Boss: ['Mr Devourer, Please Act Like a Final Boss']\n",
      "The Hero Returns: ['The Hero Returns', 'The Greatest Sword Hero Returns After 69420 Years', 'The Live', 'Superhuman Battlefield', 'King of the Mound']\n",
      "My School Life Pretending To Be a Worthless Person: ['My School Life Pretending To Be a Worthless Person', 'Relife Player', 'Dr. Player']\n",
      "The Knight King Who Returned With a God: ['The Knight King Who Returned with a God', 'I Killed an Academy Player']\n",
      "The Extra is Too Strong: ['The Extra is Too Strong', 'Genius Archer’s Streaming']\n",
      "Reformation of the Deadbeat Noble: ['Reformation of the Deadbeat Noble']\n",
      "Weak Hero: ['The Max Level Hero has Returned!', 'King of the Mound']\n",
      "Slave B: ['The Indomitable Martial King', 'The Strongest Player', 'Death Is the Only Ending for the Villainess']\n",
      "The Extra’s Academy Survival Guide: ['The Extra’s Academy Survival Guide']\n",
      "Executioner: ['The Executioner']\n",
      "Kill the Hero: ['The Hero Returns', 'Return of the Disaster-Class Hero', 'Hero Has Returned', 'King of the Mound', 'The Executioner']\n"
     ]
    }
   ],
   "source": [
    "all_names = {}\n",
    "\n",
    "for title in titles:\n",
    "    search_form = driver.find_element_by_xpath(\"//form[contains(@itemtype, 'http://schema.org/SearchAction')]\")\n",
    "    search_bar = search_form.find_element_by_xpath(\".//input\")\n",
    "    search_button = search_form.find_element_by_xpath(\".//button\")\n",
    "    search_bar.send_keys(title)\n",
    "    search_button.click()\n",
    "\n",
    "    names = driver.find_elements_by_xpath(\".//div[contains(@class, 'tt')]\")[:5]\n",
    "    names = [name.text for name in names]\n",
    "    all_names[title] = names\n",
    "\n",
    "for title, results in all_names.items():\n",
    "    if len(results) > 0:\n",
    "        print(f\"{title}: {results}\")"
   ]
  },
  {
   "cell_type": "code",
   "execution_count": 76,
   "metadata": {},
   "outputs": [],
   "source": [
    "driver.close()"
   ]
  },
  {
   "cell_type": "code",
   "execution_count": null,
   "metadata": {},
   "outputs": [],
   "source": []
  }
 ],
 "metadata": {
  "kernelspec": {
   "display_name": "scrapy-env",
   "language": "python",
   "name": "python3"
  },
  "language_info": {
   "codemirror_mode": {
    "name": "ipython",
    "version": 3
   },
   "file_extension": ".py",
   "mimetype": "text/x-python",
   "name": "python",
   "nbconvert_exporter": "python",
   "pygments_lexer": "ipython3",
   "version": "3.10.7"
  }
 },
 "nbformat": 4,
 "nbformat_minor": 2
}
