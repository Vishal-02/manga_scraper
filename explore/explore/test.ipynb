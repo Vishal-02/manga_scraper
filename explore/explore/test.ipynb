{
 "cells": [
  {
   "cell_type": "code",
   "execution_count": 1,
   "metadata": {},
   "outputs": [],
   "source": [
    "import sqlite3\n",
    "import json\n",
    "import os\n",
    "from io import BytesIO\n",
    "from os import getenv\n",
    "from dotenv import load_dotenv\n",
    "from selenium import webdriver\n",
    "from selenium.webdriver.support.ui import WebDriverWait\n",
    "from selenium.webdriver.chrome.options import Options\n",
    "from selenium.webdriver.common.keys import Keys\n",
    "import pytesseract\n",
    "from PIL import Image\n",
    "import cv2\n",
    "import numpy as np\n",
    "from re import split\n",
    "import csv"
   ]
  },
  {
   "cell_type": "code",
   "execution_count": 2,
   "metadata": {},
   "outputs": [],
   "source": [
    "load_dotenv()\n",
    "DB_PATH = getenv('DB_PATH')"
   ]
  },
  {
   "cell_type": "code",
   "execution_count": null,
   "metadata": {},
   "outputs": [],
   "source": [
    "con = sqlite3.connect(\"mangakakalot.db\")\n",
    "cur = con.cursor()\n",
    "\n",
    "for row in cur.execute(\"SELECT * FROM Manga\"):\n",
    "    title, url, current, latest = row\n",
    "\n",
    "    current = current.split(\":\")[0].split(\" \")[-1]\n",
    "    if current == \"\" or current == \" \":\n",
    "        current = 0\n",
    "    elif \".\" in current:\n",
    "        current = float(current)\n",
    "    else:\n",
    "        current = int(current)\n",
    "\n",
    "    latest = latest.split(\":\")[0].split(\" \")[-1]\n",
    "    if latest == \"\" or latest == \" \":\n",
    "        latest = 0\n",
    "    elif \".\" in latest:\n",
    "        latest = float(latest)\n",
    "    else:\n",
    "        latest = int(latest)"
   ]
  },
  {
   "cell_type": "code",
   "execution_count": null,
   "metadata": {},
   "outputs": [],
   "source": [
    "test = \"132\"\n",
    "if \".\" in test:\n",
    "    print(True)"
   ]
  },
  {
   "cell_type": "code",
   "execution_count": null,
   "metadata": {},
   "outputs": [],
   "source": [
    "def func(line):\n",
    "    line = line.strip('\"')\n",
    "    curr_chap, latest_chap = \"\", \"\"\n",
    "\n",
    "    if line[0] == \"C\": # it starts with \"Chapter\"\n",
    "        line = line.split(\"Chapter\")[1:]\n",
    "        first = line[0].split(\"Vol\")\n",
    "\n",
    "        if len(first) == 1:\n",
    "            curr_chap = \"Chapter\" + line[0][:-1]\n",
    "            latest_chap = \"Chapter \" + line[1].strip()\n",
    "        elif len(first) == 2:\n",
    "            curr_chap = \"Chapter\" + first[0][:-1]\n",
    "            latest_chap = \"Vol\" + first[1] + \"Chapter \" + line[-1].strip()\n",
    "\n",
    "    else: # it starts with \"Vol\"\n",
    "        line = line.split(\"Vol\")[1:]\n",
    "\n",
    "        if len(line) == 1: # the latest chapter starts with \"Chapter\"\n",
    "            line = line[0].rsplit(\",Chapter\", 1)\n",
    "            curr_chap = \"Vol\" + line[0]\n",
    "            latest_chap = \"Chapter \" + line[-1].strip()\n",
    "        elif len(line) == 2: # the latest chapter starts with \"Vol\"\n",
    "            curr_chap = \"Vol\" + line[0][:-1]\n",
    "            latest_chap = \"Vol\" + line[1].strip()\n",
    "\n",
    "        # print(f\"{curr_chap} --- {latest_chap}\")\n",
    "\n",
    "    return curr_chap, latest_chap\n",
    "\n",
    "one = \"Vol.5 Chapter 43: Cheers,Vol.15 Chapter 165: Takehi Gouda's Ability\\n\"\n",
    "two = \"Chapter 3,Chapter 11\\n\"\n",
    "three = \"Chapter 14,Vol.4 Chapter 18\\n\"\n",
    "four = \"Vol.4 Chapter 14,Chapter 18: Something else is going on\\n\"\n",
    "\n",
    "print(func(four))"
   ]
  },
  {
   "cell_type": "code",
   "execution_count": null,
   "metadata": {},
   "outputs": [],
   "source": [
    "titles = []\n",
    "urls = []\n",
    "current = []\n",
    "latest = []\n",
    "full = []\n",
    "\n",
    "with open(\"tempdb.csv\", \"r\", encoding=\"utf-8\") as file:\n",
    "    csvwriter = csv.reader(file)\n",
    "    for i, lines in enumerate(file):\n",
    "        full.append(lines)\n",
    "        if i == 0:\n",
    "            continue\n",
    "\n",
    "        lines = split(\"https\", lines)\n",
    "        titles.append(lines[0][:-1].strip('\"'))\n",
    "\n",
    "        lines = lines[1].split(\",\", maxsplit=1)\n",
    "        urls.append(f\"https{lines[0]}\")\n",
    "        \n",
    "        curr_chap, latest_chap = func(lines[1])\n",
    "        current.append(curr_chap)\n",
    "        latest.append(latest_chap)"
   ]
  },
  {
   "cell_type": "code",
   "execution_count": null,
   "metadata": {},
   "outputs": [],
   "source": [
    "driver = webdriver.Chrome(\"..\\..\\web_scraping\\chromedriver-win64\\chromedriver.exe\")\n",
    "driver.get(\"https://comick.io/home\")"
   ]
  },
  {
   "cell_type": "code",
   "execution_count": null,
   "metadata": {},
   "outputs": [],
   "source": [
    "title = titles[0]\n",
    "search_form = driver.find_element_by_xpath(\"//form[contains(@itemtype, 'http://schema.org/SearchAction')]\")\n",
    "search_bar = search_form.find_element_by_xpath(\".//input\")\n",
    "search_button = search_form.find_element_by_xpath(\".//button\")\n",
    "search_bar.send_keys(title)\n",
    "search_button.click()"
   ]
  },
  {
   "cell_type": "code",
   "execution_count": null,
   "metadata": {},
   "outputs": [],
   "source": [
    "results_name = driver.find_elements_by_xpath(\".//div[contains(@class, 'tt')]\")[:5]\n",
    "results_img = driver.find_elements_by_xpath(\".//div[contains(@class, 'limit')]/img\")\n",
    "results_img = [r.get_attribute(\"src\") for r in results_img]"
   ]
  },
  {
   "cell_type": "code",
   "execution_count": null,
   "metadata": {},
   "outputs": [],
   "source": [
    "all_names = {}\n",
    "\n",
    "for title in titles:\n",
    "    search_form = driver.find_element_by_xpath(\"//form[contains(@itemtype, 'http://schema.org/SearchAction')]\")\n",
    "    search_bar = search_form.find_element_by_xpath(\".//input\")\n",
    "    search_button = search_form.find_element_by_xpath(\".//button\")\n",
    "    search_bar.send_keys(title)\n",
    "    search_button.click()\n",
    "\n",
    "    names = driver.find_elements_by_xpath(\".//div[contains(@class, 'tt')]\")[:5]\n",
    "    names = [name.text for name in names]\n",
    "    all_names[title] = names\n",
    "\n",
    "for title, results in all_names.items():\n",
    "    if len(results) > 0:\n",
    "        print(f\"{title}: {results}\")"
   ]
  },
  {
   "cell_type": "code",
   "execution_count": null,
   "metadata": {},
   "outputs": [],
   "source": [
    "images_path = \"D:/Vishals Folder/Study/Code/Python/manga_project/images/full\"\n",
    "os.listdir(images_path)"
   ]
  },
  {
   "cell_type": "code",
   "execution_count": null,
   "metadata": {},
   "outputs": [],
   "source": [
    "def img_to_bin(path):\n",
    "    with open(path, 'rb') as file:\n",
    "        data = file.read()\n",
    "    return data\n",
    "\n",
    "con = sqlite3.connect(DB_PATH)\n",
    "cur = con.cursor()\n",
    "\n",
    "complete = 0\n",
    "count = 0\n",
    "images_path = \"D:/Vishals Folder/Study/Code/Python/manga_project/images/full/\"\n",
    "image_names = os.listdir(images_path)\n",
    "total = 0\n",
    "\n",
    "cur.execute(\"SELECT * FROM Manga\")\n",
    "for row in cur.fetchall():\n",
    "    title, *other = row\n",
    "\n",
    "    not_allowed = ['?', '/', '%']\n",
    "    change = {'’': \"'\", '“': '\"', '”': '\"'}\n",
    "    remove = ['»', '«']\n",
    "    \n",
    "    img_title = \"\".join([i for i in title if i not in not_allowed])\n",
    "    new_title = ''\n",
    "\n",
    "    for char in img_title:\n",
    "        if char in change:\n",
    "            new_title = new_title + change[char]\n",
    "            continue\n",
    "        if char in remove:\n",
    "            continue\n",
    "\n",
    "        new_title = new_title + char\n",
    "    img_title = new_title\n",
    "\n",
    "    if f\"{img_title}.jpg\" not in image_names:\n",
    "        print(f\"{img_title}, {title}\")\n",
    "        continue\n",
    "\n",
    "    image = img_to_bin(images_path + img_title + \".jpg\")\n",
    "    cur.execute(\"UPDATE Manga set image=? where title=?\", (image, title))\n",
    "    \n",
    "# con.commit()\n",
    "\n",
    "cur.close()\n",
    "con.close()"
   ]
  },
  {
   "cell_type": "code",
   "execution_count": null,
   "metadata": {},
   "outputs": [],
   "source": [
    "def bin_image(path):\n",
    "    with open(path, 'rb') as file:\n",
    "        data = file.read()\n",
    "    return data\n",
    "\n",
    "# image = \"D:/Vishals Folder/Study/Code/Python/manga_project/images/full/Bartender.jpg\"\n",
    "# bin_image(image)\n",
    "change = {'’': \"'\", '“': '\"', '”': '\"'}\n",
    "remove = ['»', '«']\n",
    "\n",
    "con = sqlite3.connect(DB_PATH)\n",
    "cur = con.cursor()\n",
    "\n",
    "# print(len(cur.execute(\"SELECT * FROM Manga\").fetchall()))\n",
    "count = 0\n",
    "cur.execute(\"SELECT * FROM Manga\")\n",
    "\n",
    "for row in cur.fetchall():\n",
    "    count += 1\n",
    "    title, *other = row\n",
    "    print(title)\n",
    "    new_title = ''\n",
    "\n",
    "    for char in title:\n",
    "        if char in change:\n",
    "            new_title = new_title + change[char]\n",
    "            continue\n",
    "        if char in remove:\n",
    "            continue\n",
    "\n",
    "        new_title = new_title + char\n",
    "\n",
    "    if new_title != title:\n",
    "        cur.execute(\"UPDATE Manga set title=? where title=?\", (new_title, title))\n",
    "        \n",
    "con.commit()\n",
    "\n",
    "print(count)\n",
    "cur.close()\n",
    "con.close()"
   ]
  },
  {
   "cell_type": "code",
   "execution_count": 6,
   "metadata": {},
   "outputs": [
    {
     "name": "stdout",
     "output_type": "stream",
     "text": [
      "huh?\n",
      "(\"I'm a D-Rank Adventurer, for Some Reason I Got Recruited Into a Hero Party, and Now the Princess Is Stalking Me\", '', 27, 28, 'lngqm7OZ', 'comick', 'If you become a hero and defeat the Demon King, a life of idleness awaits you...! This is what the young man Jirei believed, and he worked hard day and night to achieve his goal. However, when he found out that the heroes who defeated the Demon King were the ones who were doing all the hard work, he ran away. But the girls that Jirei had been saving on his journeys before he knew it came pouring in one after another to win his heart and body...?', None)\n"
     ]
    }
   ],
   "source": [
    "title = \"I'm a D-Rank Adventurer, for Some Reason I Got Recruited Into a Hero Party, and Now the Princess Is Stalking Me\"\n",
    "a = \"I'm a D-Rank Adventurer, for Some Reason I Got Recruited Into a Hero Party, and Now the Princess Is Stalking Me\"\n",
    "\n",
    "if a == title:\n",
    "    print('huh?')\n",
    "\n",
    "con = sqlite3.connect(DB_PATH)\n",
    "cur = con.cursor()\n",
    "\n",
    "image = cur.execute(\"SELECT * from Manga where title=?\", (title,)).fetchone()\n",
    "print(image)\n",
    "cur.close()\n",
    "con.close()"
   ]
  },
  {
   "cell_type": "code",
   "execution_count": 162,
   "metadata": {},
   "outputs": [
    {
     "name": "stdout",
     "output_type": "stream",
     "text": [
      "The Extra's Academy Survival Guide The Extra’s Academy Survival Guide\n"
     ]
    }
   ],
   "source": [
    "change = {'’': \"'\", '“': '\"', '”': '\"'}\n",
    "remove = ['»', '«']\n",
    "\n",
    "title = \"The Extra’s Academy Survival Guide\"\n",
    "new_title = ''\n",
    "\n",
    "for char in title:\n",
    "    if char in change:\n",
    "        new_title = new_title + change[char]\n",
    "        continue\n",
    "    if char in remove:\n",
    "        continue\n",
    "\n",
    "    new_title = new_title + char\n",
    "\n",
    "if new_title != title:\n",
    "    print(new_title, title)"
   ]
  },
  {
   "cell_type": "code",
   "execution_count": 7,
   "metadata": {},
   "outputs": [
    {
     "name": "stdout",
     "output_type": "stream",
     "text": [
      "98\n"
     ]
    }
   ],
   "source": [
    "con = sqlite3.connect(DB_PATH)\n",
    "cur = con.cursor()\n",
    "\n",
    "cur.execute(\"DELETE FROM Manga WHERE title=?\", (\"The Greatest Estate Designer\",))\n",
    "con.commit()\n",
    "\n",
    "print(len(cur.execute(\"SELECT * FROM Manga\").fetchall()))\n",
    "\n",
    "cur.close()\n",
    "con.close()"
   ]
  }
 ],
 "metadata": {
  "kernelspec": {
   "display_name": "scrapy-env",
   "language": "python",
   "name": "python3"
  },
  "language_info": {
   "codemirror_mode": {
    "name": "ipython",
    "version": 3
   },
   "file_extension": ".py",
   "mimetype": "text/x-python",
   "name": "python",
   "nbconvert_exporter": "python",
   "pygments_lexer": "ipython3",
   "version": "3.10.7"
  }
 },
 "nbformat": 4,
 "nbformat_minor": 2
}
